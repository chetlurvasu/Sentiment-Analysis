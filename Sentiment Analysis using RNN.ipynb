{
 "cells": [
  {
   "cell_type": "code",
   "execution_count": 1,
   "id": "5910fe53",
   "metadata": {},
   "outputs": [],
   "source": [
    "import re # regular expression\n",
    "import numpy as np\n",
    "import pandas as pd\n",
    "\n",
    "from sklearn.feature_extraction.text import CountVectorizer\n",
    "#converting a collection of text documents into a numerical representation\n",
    "from sklearn.model_selection import train_test_split\n",
    "\n",
    "from keras.preprocessing import sequence\n",
    "from keras.preprocessing.text import Tokenizer\n",
    "#Tokenization is the process of dividing a text into smaller units\n",
    "from keras.preprocessing.sequence import pad_sequences\n",
    "from keras.models import Sequential\n",
    "from keras.layers import Dense, Embedding, LSTM\n",
    "#A layer which learns a position embedding for inputs sequences.\n",
    "from keras.datasets import imdb\n",
    "\n",
    "from tensorflow.keras.utils import to_categorical\n",
    "\n",
    "import warnings\n",
    "warnings.filterwarnings('ignore')\n",
    "import ssl\n",
    "ssl._create_default_https_context = ssl._create_unverified_context\n",
    "# A common solution for SSL certificate_verify_failed errors."
   ]
  },
  {
   "cell_type": "code",
   "execution_count": 5,
   "id": "bead6c2f",
   "metadata": {},
   "outputs": [],
   "source": [
    "import pandas as pd\n",
    "data = pd.read_csv(r\"C:\\Users\\chetl\\OneDrive\\Documents\\rnn_reviews.csv\", encoding='latin1')\n",
    "\n",
    "#data = pd.read_csv('Senti.csv')\n",
    "# Keeping only the neccessary columns\n",
    "data = data[['text','sentiment']]"
   ]
  },
  {
   "cell_type": "code",
   "execution_count": 6,
   "id": "8bfba090",
   "metadata": {},
   "outputs": [
    {
     "data": {
      "text/html": [
       "<div>\n",
       "<style scoped>\n",
       "    .dataframe tbody tr th:only-of-type {\n",
       "        vertical-align: middle;\n",
       "    }\n",
       "\n",
       "    .dataframe tbody tr th {\n",
       "        vertical-align: top;\n",
       "    }\n",
       "\n",
       "    .dataframe thead th {\n",
       "        text-align: right;\n",
       "    }\n",
       "</style>\n",
       "<table border=\"1\" class=\"dataframe\">\n",
       "  <thead>\n",
       "    <tr style=\"text-align: right;\">\n",
       "      <th></th>\n",
       "      <th>text</th>\n",
       "      <th>sentiment</th>\n",
       "    </tr>\n",
       "  </thead>\n",
       "  <tbody>\n",
       "    <tr>\n",
       "      <th>0</th>\n",
       "      <td>If you love Barbie this movie is for you.</td>\n",
       "      <td>postivie</td>\n",
       "    </tr>\n",
       "    <tr>\n",
       "      <th>1</th>\n",
       "      <td>Shrodingers reccomendation</td>\n",
       "      <td>postivie</td>\n",
       "    </tr>\n",
       "    <tr>\n",
       "      <th>2</th>\n",
       "      <td>This is much more than just a film about Barbie.</td>\n",
       "      <td>postivie</td>\n",
       "    </tr>\n",
       "    <tr>\n",
       "      <th>3</th>\n",
       "      <td>Not only did Mattel approve a PG-13 Barbie mov...</td>\n",
       "      <td>postivie</td>\n",
       "    </tr>\n",
       "    <tr>\n",
       "      <th>4</th>\n",
       "      <td>i still remember when i watched this in summer...</td>\n",
       "      <td>postivie</td>\n",
       "    </tr>\n",
       "    <tr>\n",
       "      <th>5</th>\n",
       "      <td>I thought it was brilliant.</td>\n",
       "      <td>postivie</td>\n",
       "    </tr>\n",
       "    <tr>\n",
       "      <th>6</th>\n",
       "      <td>The satire was very satisfying</td>\n",
       "      <td>postivie</td>\n",
       "    </tr>\n",
       "    <tr>\n",
       "      <th>7</th>\n",
       "      <td>im obsessed with the dream houses being comple...</td>\n",
       "      <td>postivie</td>\n",
       "    </tr>\n",
       "    <tr>\n",
       "      <th>8</th>\n",
       "      <td>I didnt expect this movie to turnout this goo...</td>\n",
       "      <td>postivie</td>\n",
       "    </tr>\n",
       "    <tr>\n",
       "      <th>9</th>\n",
       "      <td>This movie is a masterpiece.</td>\n",
       "      <td>postivie</td>\n",
       "    </tr>\n",
       "  </tbody>\n",
       "</table>\n",
       "</div>"
      ],
      "text/plain": [
       "                                                text sentiment\n",
       "0          If you love Barbie this movie is for you.  postivie\n",
       "1                         Shrodingers reccomendation  postivie\n",
       "2   This is much more than just a film about Barbie.  postivie\n",
       "3  Not only did Mattel approve a PG-13 Barbie mov...  postivie\n",
       "4  i still remember when i watched this in summer...  postivie\n",
       "5                        I thought it was brilliant.  postivie\n",
       "6                     The satire was very satisfying  postivie\n",
       "7  im obsessed with the dream houses being comple...  postivie\n",
       "8  I didnt expect this movie to turnout this goo...  postivie\n",
       "9                       This movie is a masterpiece.  postivie"
      ]
     },
     "execution_count": 6,
     "metadata": {},
     "output_type": "execute_result"
    }
   ],
   "source": [
    "data.head(10)"
   ]
  },
  {
   "cell_type": "code",
   "execution_count": 7,
   "id": "f4ce6fec",
   "metadata": {},
   "outputs": [],
   "source": [
    "data = data[data.sentiment != \"Neutral\"]\n",
    "data['text'] = data['text'].apply(lambda x: x.lower())\n",
    "data['text'] = data['text'].apply((lambda x: re.sub('[^a-zA-z0-9\\s]','',x)))\n",
    "\n",
    "for idx,row in data.iterrows():\n",
    "    row[0] = row[0].replace('rt',' ')\n",
    "\n",
    "max_fatures = 2000\n",
    "tokenizer = Tokenizer(nb_words=max_fatures, split=' ')\n",
    "tokenizer.fit_on_texts(data['text'].values)\n",
    "X = tokenizer.texts_to_sequences(data['text'].values)\n",
    "X = pad_sequences(X)"
   ]
  },
  {
   "cell_type": "code",
   "execution_count": 8,
   "id": "eac9d6da",
   "metadata": {},
   "outputs": [
    {
     "name": "stdout",
     "output_type": "stream",
     "text": [
      "Shape of training samples: (186, 45) (186, 2)\n",
      "Shape of testing samples: (93, 45) (93, 2)\n"
     ]
    }
   ],
   "source": [
    "Y = pd.get_dummies(data['sentiment']).values\n",
    "X_train, X_test, Y_train, Y_test = train_test_split(X,Y, test_size = 0.33, random_state = 42)\n",
    "print('Shape of training samples:',X_train.shape,Y_train.shape)\n",
    "print('Shape of testing samples:',X_test.shape,Y_test.shape)"
   ]
  },
  {
   "cell_type": "code",
   "execution_count": 9,
   "id": "11b69d6f",
   "metadata": {},
   "outputs": [
    {
     "name": "stdout",
     "output_type": "stream",
     "text": [
      "Model: \"sequential\"\n",
      "_________________________________________________________________\n",
      " Layer (type)                Output Shape              Param #   \n",
      "=================================================================\n",
      " embedding (Embedding)       (None, 45, 128)           256000    \n",
      "                                                                 \n",
      " lstm (LSTM)                 (None, 128)               131584    \n",
      "                                                                 \n",
      " dense (Dense)               (None, 2)                 258       \n",
      "                                                                 \n",
      "=================================================================\n",
      "Total params: 387842 (1.48 MB)\n",
      "Trainable params: 387842 (1.48 MB)\n",
      "Non-trainable params: 0 (0.00 Byte)\n",
      "_________________________________________________________________\n",
      "None\n"
     ]
    }
   ],
   "source": [
    "model = Sequential()\n",
    "#model.add(Embedding(max_fatures, 128 ,input_length = X.shape[1], dropout=0.2))\n",
    "model.add(Embedding(max_fatures, 128 ,input_length = X.shape[1]))\n",
    "model.add(LSTM(128))\n",
    "model.add(Dense(2, activation='softmax'))\n",
    "model.compile(loss = 'categorical_crossentropy', optimizer='adam',metrics = ['accuracy'])\n",
    "print(model.summary())"
   ]
  },
  {
   "cell_type": "code",
   "execution_count": 32,
   "id": "7967a5e6",
   "metadata": {},
   "outputs": [
    {
     "name": "stdout",
     "output_type": "stream",
     "text": [
      "Epoch 1/5\n",
      "16/16 - 1s - loss: 5.1777e-04 - accuracy: 1.0000 - 1s/epoch - 65ms/step\n",
      "Epoch 2/5\n",
      "16/16 - 1s - loss: 3.7117e-04 - accuracy: 1.0000 - 1s/epoch - 64ms/step\n",
      "Epoch 3/5\n",
      "16/16 - 1s - loss: 3.1734e-04 - accuracy: 1.0000 - 1s/epoch - 64ms/step\n",
      "Epoch 4/5\n",
      "16/16 - 1s - loss: 2.9340e-04 - accuracy: 1.0000 - 1s/epoch - 64ms/step\n",
      "Epoch 5/5\n",
      "16/16 - 1s - loss: 4.4597e-04 - accuracy: 1.0000 - 1s/epoch - 65ms/step\n"
     ]
    },
    {
     "data": {
      "text/plain": [
       "<keras.src.callbacks.History at 0x1efee562450>"
      ]
     },
     "execution_count": 32,
     "metadata": {},
     "output_type": "execute_result"
    }
   ],
   "source": [
    "batch_size = 12\n",
    "model.fit(X_train, Y_train, epochs = 5, batch_size=batch_size, verbose = 2)"
   ]
  },
  {
   "cell_type": "code",
   "execution_count": 33,
   "id": "849963e5",
   "metadata": {},
   "outputs": [
    {
     "name": "stdout",
     "output_type": "stream",
     "text": [
      "8/8 - 0s - loss: 1.2373 - accuracy: 0.7312 - 250ms/epoch - 31ms/step\n",
      "Score: 1.24\n",
      "Accuracy: 0.73\n"
     ]
    }
   ],
   "source": [
    "score,acc = model.evaluate(X_test, Y_test, verbose = 2, batch_size = batch_size)\n",
    "print(\"Score: %.2f\" % (score))\n",
    "print(\"Accuracy: %.2f\" % (acc))"
   ]
  },
  {
   "cell_type": "code",
   "execution_count": 36,
   "id": "9bbe1f2e",
   "metadata": {},
   "outputs": [
    {
     "name": "stdout",
     "output_type": "stream",
     "text": [
      "1/1 [==============================] - 0s 50ms/step\n",
      "Prediction value: [1.8254044e-10 1.0000000e+00]\n",
      "Positive\n"
     ]
    }
   ],
   "source": [
    "text = 'I absolutely loved this movie! The storyline was captivating, the characters were well-developed, and the acting was superb. I was on the edge of my seat throughout the entire film. Highly recommend!'\n",
    "\n",
    "tester = np.array([text])\n",
    "tester = pd.DataFrame(tester)\n",
    "tester.columns = ['text']\n",
    "\n",
    "tester['text'] = tester['text'].apply(lambda x: x.lower())\n",
    "tester['text'] = tester['text'].apply((lambda x: re.sub('[^a-zA-z0-9\\s]','',x)))\n",
    "\n",
    "max_fatures = 2000\n",
    "test = tokenizer.texts_to_sequences(tester['text'].values)\n",
    "test = pad_sequences(test)\n",
    "\n",
    "if X.shape[1]>test.shape[1]:\n",
    "    test = np.pad(test[0], (X.shape[1]-test.shape[1],0), 'constant')\n",
    "\n",
    "test = np.array([test])\n",
    "\n",
    "prediction = model.predict(test)\n",
    "print('Prediction value:',prediction[0])\n",
    "if(prediction[0][0]> 0.5):\n",
    "    print(\"Negative\")\n",
    "else:\n",
    "    print(\"Positive\")"
   ]
  },
  {
   "cell_type": "code",
   "execution_count": null,
   "id": "de965390",
   "metadata": {},
   "outputs": [],
   "source": []
  }
 ],
 "metadata": {
  "kernelspec": {
   "display_name": "Python 3 (ipykernel)",
   "language": "python",
   "name": "python3"
  },
  "language_info": {
   "codemirror_mode": {
    "name": "ipython",
    "version": 3
   },
   "file_extension": ".py",
   "mimetype": "text/x-python",
   "name": "python",
   "nbconvert_exporter": "python",
   "pygments_lexer": "ipython3",
   "version": "3.11.4"
  }
 },
 "nbformat": 4,
 "nbformat_minor": 5
}
